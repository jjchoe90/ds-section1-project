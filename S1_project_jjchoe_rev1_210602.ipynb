{
  "nbformat": 4,
  "nbformat_minor": 0,
  "metadata": {
    "colab": {
      "name": "project_jjchoe_rev0.ipynb의 사본",
      "private_outputs": true,
      "provenance": []
    },
    "kernelspec": {
      "name": "python3",
      "display_name": "Python 3"
    },
    "language_info": {
      "name": "python"
    }
  },
  "cells": [
    {
      "cell_type": "code",
      "metadata": {
        "id": "_A-U4c1g2SE0"
      },
      "source": [
        "from google.colab import files\n",
        "uploaded = files.upload()"
      ],
      "execution_count": null,
      "outputs": []
    },
    {
      "cell_type": "code",
      "metadata": {
        "id": "BcByPDM82wPu"
      },
      "source": [
        "# 전처리 과정\n",
        "# 결측치 복구\n",
        "\n",
        "import pandas as pd\n",
        "import numpy as np\n",
        "\n",
        "df = pd.read_csv('vgames2.csv').drop(columns=['Unnamed: 0'])"
      ],
      "execution_count": null,
      "outputs": []
    },
    {
      "cell_type": "code",
      "metadata": {
        "id": "086skG7J7hjR"
      },
      "source": [
        "# 참고 : https://stackoverflow.com/questions/39684548/convert-the-string-2-90k-to-2900-or-5-2m-to-5200000-in-pandas-dataframe\n",
        "# 출하량 covert K,M to 1000,1000000 + int\n",
        "\n",
        "NA = df.NA_Sales.replace(r'[KM]+$', '', regex=True).astype(float) * df.NA_Sales.str.extract(r'[\\d\\.]+([KM]+)', expand=False).fillna(1).replace(['K','M'], [0.001, 1.0]).astype(int)\n",
        "df['NA_Sales'] = NA.to_frame()\n",
        "EU = df.EU_Sales.replace(r'[KM]+$', '', regex=True).astype(float) * df.EU_Sales.str.extract(r'[\\d\\.]+([KM]+)', expand=False).fillna(1).replace(['K','M'], [0.001, 1.0]).astype(int)\n",
        "df['EU_Sales'] = EU.to_frame()\n",
        "JP = df.JP_Sales.replace(r'[KM]+$', '', regex=True).astype(float) * df.JP_Sales.str.extract(r'[\\d\\.]+([KM]+)', expand=False).fillna(1).replace(['K','M'], [0.001, 1.0]).astype(int)\n",
        "df['JP_Sales'] = JP.to_frame()\n",
        "Other = df.Other_Sales.replace(r'[KM]+$', '', regex=True).astype(float) * df.Other_Sales.str.extract(r'[\\d\\.]+([KM]+)', expand=False).fillna(1).replace(['K','M'], [0.1**3, 1.0**6]).astype(int)\n",
        "df['Other_Sales'] = Other.to_frame()"
      ],
      "execution_count": null,
      "outputs": []
    },
    {
      "cell_type": "code",
      "metadata": {
        "id": "P3_jISah5MSd"
      },
      "source": [
        "# 발매년도 오기 사항 수정\n",
        "\n",
        "df['Year'] = df['Year'].replace({86: 1986, 94: 1994, 95:1995, 96:1996, 97:1997, 98:1998, 99:1999})\n",
        "df['Year'] = df['Year'].replace({0: 2000, 1: 2001, 2:2002, 3:2003, 4:2004, 5:2005, 6:2006, 7:2007, 8:2008, 9:2009, 10:2010, 11:2011, 12:2012, 13:2013, 14:2014, 15:2015, 16:2016})"
      ],
      "execution_count": null,
      "outputs": []
    },
    {
      "cell_type": "code",
      "metadata": {
        "id": "bcrAUnqJJA8_"
      },
      "source": [
        "# 게임별 결측치 수정 (발매년도)\n",
        "\n",
        "df.iloc[31,2] = 2007 # Rock Band\n",
        "df.iloc[109,2] = 2009 # Yu-Gi-Oh! 5D's Wheelie Breakers (JP sales)\n",
        "df.iloc[273,2] = 2012 # Jewel Link Chronicles: Mountains of Madness\n",
        "df.iloc[359,2] = 2009 # Majesty 2: The Fantasy Kingdom Sim\n",
        "df.iloc[430,2] = 1997 # Famista 64\n",
        "df.iloc[549,2] = 2001 # Transworld Surf\n",
        "df.iloc[675,2] = 2011 # Battle vs. Chess\n",
        "df.iloc[808,2] = 2006 # Major League Baseball 2K6\n",
        "df.iloc[818,2] = 2001 # Twisted Metal: Small Brawl\n",
        "df.iloc[952,2] = 2006 # Tiger Woods PGA Tour 07\n",
        "df.iloc[1011,2] = 2002 # Tribes: Aerial Assault\n",
        "df.iloc[1041,2] = 2002 # Metal Gear Solid 2: Substance\n",
        "df.iloc[1093,2] = 2006 # Star Trek: Legacy\n",
        "df.iloc[1235,2] = 2009 # My Healthy Cooking Coach\n",
        "df.iloc[1285,2] = 2006 # Mega Man X Collection\n",
        "df.iloc[1301,2] = 2013 # Move Fitness\n",
        "df.iloc[1509,2] = 2010 # Flip's Twisted World\n",
        "df.iloc[1523,2] = 1996 # Super Puzzle Fighter II\n",
        "df.iloc[1534,2] = 2008 # Luminous Arc 2 (JP sales)\n",
        "df.iloc[1572,2] = 2013 # Tomb Raider (2013)\n",
        "df.iloc[1613,2] = 2008 # Street Fighter IV\n",
        "df.iloc[1796,2] = 2011 # Agarest Senki: Re-appearance\n",
        "df.iloc[1879,2] = 2007 # Monster Hunter Frontier Online\n",
        "df.iloc[1884,2] = 2001 # Harvest Moon: Save the Homeland\n",
        "df.iloc[1903,2] = 2003 # NHL Hitz Pro\n",
        "df.iloc[2026,2] = 2002 # Final Fantasy XI\n",
        "df.iloc[2056,2] = 2007 # The Golden Compass\n",
        "df.iloc[2062,2] = 2009 # Shorts\n",
        "df.iloc[2070,2] = 2010 # World of Tanks\n",
        "df.iloc[2130,2] = 2006 # Call of Duty 3\n",
        "df.iloc[2142,2] = 2005 # Madden NFL 06\n",
        "df.iloc[2202,2] = 2003 # Dinotopia: The Sunstone Odyssey\n",
        "df.iloc[2270,2] = 2004 # Virtua Quest\n",
        "df.iloc[2337,2] = 2011 # Captain America: Super Soldier\n",
        "df.iloc[2409,2] = 2007 # Writing and Speaking Beautiful Japanese DS\n",
        "df.iloc[2478,2] = 2006 # Disney's Chicken Little: Ace In Action\n",
        "df.iloc[2492,2] = 2001 # Madden NFL 2002\n",
        "df.iloc[2527,2] = 1980 # Maze Craze: A Game of Cops 'n Robbers\n",
        "df.iloc[2545,2] = 1984 # Sabre Wulf\n",
        "df.iloc[2552,2] = 2007 # The Golden Compass\n",
        "df.iloc[2824,2] = 2001 # Alone in the Dark: The New Nightmare\n",
        "df.iloc[2934,2] = 2006 # Disney's Cinderella: Magical Dreams\n",
        "df.iloc[2970,2] = 2006 # Chou Soujuu Mecha MG\n",
        "df.iloc[3031,2] = 1997 # Donkey Kong Land III\n",
        "df.iloc[3069,2] = 2001 # Rayman Arena\n",
        "df.iloc[3135,2] = 2002 # eJay Clubworld\n",
        "df.iloc[3182,2] = 2010 # Danganronpa: Trigger Happy Havoc\n",
        "df.iloc[3184,2] = 2000 # Action Man-Operation Extreme\n",
        "df.iloc[3187,2] = 2007 # Jet Impulse\n",
        "df.iloc[3238,2] = 2006 # Football Manager 2007\n",
        "df.iloc[3291,2] = 2005 # The Chronicles of Narnia: The Lion, The Witch and The Wardrobe\n",
        "df.iloc[3347,2] = 2008 # LEGO Batman: The Videogame\n",
        "df.iloc[3407,2] = 2008 # Major League Baseball 2K8\n",
        "df.iloc[3533,2] = 1998 # B.L.U.E.: Legend of Water\n",
        "df.iloc[3562,2] = 2005 # wwe Smackdown vs. Raw 2006\n",
        "df.iloc[3605,2] = 2011 # TERA\n",
        "df.iloc[3639,2] = 1999 # Homeworld Remastered Collection\n",
        "df.iloc[3811,2] = 2007 # Shonen Jump's Yu-Gi-Oh! GX Card Almanac\n",
        "df.iloc[3833,2] = 1982 # Pac-Man Fever\n",
        "df.iloc[3841,2] = 2002 # Street Hoops\n",
        "df.iloc[3895,2] = 2012 # WRC: FIA World Rally Championship PS3\n",
        "df.iloc[3942,2] = 1999 # Legacy of Kain: Soul Reaver\n",
        "df.iloc[4124,2] = 2012 # WRC: FIA World Rally Championship X360\n",
        "df.iloc[4165,2] = 1995 # Namco Museum\n",
        "df.iloc[4181,2] = 2007 # Rock Band\n",
        "df.iloc[4196,2] = 2011 # Test Drive Unlimited 2\n",
        "df.iloc[4230,2] = 2006 # Sega Rally 2006\n",
        "df.iloc[4238,2] = 2008 # Rock Revolution\n",
        "df.iloc[4255,2] = 2008 # Shaun White Snowboarding\n",
        "df.iloc[4308,2] = 2011 # Umineko no Naku Koro ni San: Shinjitsu to Gensou no Yasoukyoku\n",
        "df.iloc[4488,2] = 2011 # The Lord of the Rings: War in the North\n",
        "df.iloc[4497,2] = 2011 # Pet Zombies\n",
        "df.iloc[4501,2] = 2000 # WCW Backstage Assault\n",
        "df.iloc[4511,2] = 2007 # Swords\n",
        "df.iloc[4521,2] = 1989 # Ghostbusters II\n",
        "df.iloc[4608,2] = 2010 # Bejeweled 3\n",
        "df.iloc[4617,2] = 1978 # Hangman\n",
        "df.iloc[4714,2] = 2009 # Charm Girls Club: My Fashion Show\n",
        "df.iloc[4865,2] = 2012 # Beyond the Labyrinth\n",
        "df.iloc[4911,2] = 2011 # Dream Trigger 3D\n",
        "df.iloc[5055,2] = 2005 # Demon Chaos\n",
        "df.iloc[5140,2] = 2010 # BioShock 2\n",
        "df.iloc[5144,2] = 2010 # Yakuza 4\n",
        "df.iloc[5160,2] = 2010 # Harvest Moon: The Tale of Two Towns\n",
        "df.iloc[5175,2] = 2011 # Dance! It's Your Stage\n",
        "df.iloc[5230,2] = 1980 # Circus Atari\n",
        "df.iloc[5309,2] = 2011 # LEGO Harry Potter: Years 5-7\n",
        "df.iloc[5674,2] = 2002 # Hitman 2: Silent Assassin\n",
        "df.iloc[5720,2] = 1980 # Adventure\n",
        "df.iloc[5728,2] = 2003 # Nintendo Puzzle Collection\n",
        "df.iloc[5757,2] = 2008 # Samurai Shodown Anthology\n",
        "df.iloc[5957,2] = 2011 # Rocksmith\n",
        "df.iloc[5994,2] = 2005 # Samurai Spirits: Tenkaichi Kenkakuden\n",
        "df.iloc[6118,2] = 2009 # Wheel of Fortune\n",
        "df.iloc[6152,2] = 2008 # Mobile Ops: The One Year War\n",
        "df.iloc[6178,2] = 2009 # Record of Agarest War Zero\n",
        "df.iloc[6209,2] = 2006 # Atsumare! Power Pro Kun no DS Koushien\n",
        "df.iloc[6223,2] = 2008 # Rock Revolution PS3\n",
        "df.iloc[6257,2] = 2005 # Combat Elite: WWII Paratroopers\n",
        "df.iloc[6288,2] = 1978 # Home Run\n",
        "df.iloc[6318,2] = 2009 # Legacy of Ys: Books I & II\n",
        "df.iloc[6354,2] = 2008 # GRID\n",
        "df.iloc[6375,2] = 2009 # Backbreaker\n",
        "df.iloc[6385,2] = 2013 # Dead Island: Riptide\n",
        "df.iloc[6392,2] = 2015 # Brothers in Arms: Furious 4\n",
        "df.iloc[6512,2] = 2011 # Happy Feet Two\n",
        "df.iloc[6575,2] = 1980 # Fishing Derby\n",
        "df.iloc[6623,2] = 2005 # Unreal Championship 2: The Liandri Conflict\n",
        "df.iloc[6779,2] = 2007 # Shrek the Third\n",
        "df.iloc[6949,2] = 2003 # Madden NFL 2004\n",
        "df.iloc[7008,2] = 2005 # College Hoops 2K6\n",
        "df.iloc[7131,2] = 2012 # WRC: FIA World Rally Championship\n",
        "df.iloc[7150,2] = 2003 # Aquaman: Battle for Atlantis\n",
        "df.iloc[7619,2] = 1993 # The Smurfs\n",
        "df.iloc[7682,2] = 2002 # MLB SlugFest 20-03\n",
        "df.iloc[7686,2] = 2005 # Drill Dozer\n",
        "df.iloc[7713,2] = 2009 # Our House Party!\n",
        "df.iloc[7774,2] = 2009 # Saint\n",
        "df.iloc[7792,2] = 2007 # Mountain Bike Adrenaline\n",
        "df.iloc[7847,2] = 2005 # Egg Monster Hero\n",
        "df.iloc[8055,2] = 2009 # Wii de Asobu: Metroid Prime\n",
        "df.iloc[8076,2] = 2011 # Happy Feet Two\n",
        "df.iloc[8244,2] = 2006 # Payout Poker & Casino\n",
        "df.iloc[8333,2] = 1988 # Splatterhouse\n",
        "df.iloc[8350,2] = 2002 # Jet X20\n",
        "df.iloc[8422,2] = 1999 # Reader Rabbit 2nd Grade\n",
        "df.iloc[8470,2] = 2011 # Jurassic Park: The Game\n",
        "df.iloc[8525,2] = 2011 # Half-Minute Hero 2\n",
        "df.iloc[8529,2] = 2008 # LEGO Indiana Jones: The Original Adventures\n",
        "df.iloc[8546,2] = 2007 # Build-A-Bear Workshop: Friendship Valley\n",
        "df.iloc[8600,2] = 2009 # Wet\n",
        "df.iloc[8638,2] = 2012 # Port Royale 3\n",
        "df.iloc[8651,2] = 2006 # Sonic the Hedgehog\n",
        "df.iloc[8812,2] = 2005 # Combat Elite: WWII Paratroopers\n",
        "df.iloc[8849,2] = 2009 # Vegas Party\n",
        "df.iloc[9016,2] = 2008 # Disgaea 3: Absence of Detention\n",
        "df.iloc[9082,2] = 2010 # Big Beach Sports 2\n",
        "df.iloc[9184,2] = 2009 # Wii de Asobu: Metroid Prime\n",
        "df.iloc[9240,2] = 2011 # LEGO Harry Potter: Years 5-7\n",
        "df.iloc[9298,2] = 2011 # Battle vs. Chess\n",
        "df.iloc[9577,2] = 2011 # Jonah Lomu Rugby Challenge\n",
        "df.iloc[9640,2] = 2002 # Cubix Robots for Everyone: Clash 'n' Bash\n",
        "df.iloc[9684,2] = 2006 # Dragon Ball Z: Budokai Tenkaichi 2 (JP sales)\n",
        "df.iloc[9698,2] = 2004 # Def Jam: Fight for NY\n",
        "df.iloc[9762,2] = 2011 # LEGO Harry Potter: Years 5-7\n",
        "df.iloc[9877,2] = 2000 # Mario Tennis\n",
        "df.iloc[9920,2] = 1978 # Super Breakout\n",
        "df.iloc[9958,2] = 2008 # LEGO Batman: The Videogame\n",
        "df.iloc[10032,2] = 2002 # Robotech: Battlecry\n",
        "df.iloc[10084,2] = 2008 # Advance Wars: Days of Ruin\n",
        "df.iloc[10092,2] = 1989 # Sword of the Samurai\n",
        "df.iloc[10094,2] = 2009 # Mega Man Battle Network: Operation Shooting Star\n",
        "df.iloc[10119,2] = 2011 # Tropico 4\n",
        "df.iloc[10144,2] = 2002 # Star Wars Jedi Knight II: Jedi Outcast\n",
        "df.iloc[10156,2] = 2004 # The Legend of Zelda: The Minish Cap(weekly JP sales)\n",
        "df.iloc[10269,2] = 2010 # Bejeweled 3\n",
        "df.iloc[10301,2] = 2006 # Madden NFL 07\n",
        "df.iloc[10321,2] = 2011 # LEGO Harry Potter: Years 5-7\n",
        "df.iloc[10324,2] = 2011 # DanceDanceRevolution II\n",
        "df.iloc[10327,2] = 2006 # Tony Hawk's Downhill Jam\n",
        "df.iloc[10346,2] = 2011 # LEGO Harry Potter: Years 5-7\n",
        "df.iloc[10431,2] = 2000 # The Dukes of Hazzard II: Daisy Dukes It Out\n",
        "df.iloc[10534,2] = 2009 # Backbreaker\n",
        "df.iloc[10563,2] = 2011 # LEGO Harry Potter: Years 5-7\n",
        "df.iloc[10637,2] = 2008 # PDC World Championship Darts 2008\n",
        "df.iloc[10719,2] = 2011 # National Geographic Challenge!\n",
        "df.iloc[10775,2] = 2013 # Dead Space 3\n",
        "df.iloc[10776,2] = 2007 # Rock Band\n",
        "df.iloc[10841,2] = 2012 # Combat Wings: The Great Battles of WWII\n",
        "df.iloc[10896,2] = 2004 # All-Star Baseball 2005\n",
        "df.iloc[10915,2] = 2002 # Tom and Jerry in War of the Whiskers\n",
        "df.iloc[10965,2] = 2003 # FIFA Soccer 2004\n",
        "df.iloc[11125,2] = 1980 # Dragster\n",
        "df.iloc[11145,2] = 2012 # Inversion\n",
        "df.iloc[11188,2] = 2010 # Get Fit with Mel B\n",
        "df.iloc[11193,2] = 2006 # Alex Rider: Stormbreaker\n",
        "df.iloc[11309,2] = 1998 # Triple Play 99\n",
        "df.iloc[11316,2] = 1977 # Air-Sea Battle\n",
        "df.iloc[11332,2] = 2011 # The History Channel: Great Battles - Medieval\n",
        "df.iloc[11386,2] = 2002 # NFL GameDay 2003\n",
        "df.iloc[11405,2] = 2005 # Gun\n",
        "df.iloc[11476,2] = 2006 # Cabela's Alaskan Adventure\n",
        "df.iloc[11508,2] = 2002 # NBA Live 2003\n",
        "df.iloc[11584,2] = 2006 # Saru! Get You! Million Monkeys\n",
        "df.iloc[11605,2] = 2002 # Godzilla: Destroy All Monsters Melee\n",
        "df.iloc[11641,2] = 2011 # AKB1/48: Idol to Guam de Koishitara...\n",
        "df.iloc[11658,2] = 2007 # The Hidden\n",
        "df.iloc[11665,2] = 2011 # The Lord of the Rings: War in the North\n",
        "df.iloc[11711,2] = 2014 # Hakuouki: Shinsengumi Kitan\n",
        "df.iloc[11754,2] = 2011 # Face Racers: Photo Finish\n",
        "df.iloc[11764,2] = 2009 # Charm Girls Club: My Fashion Mall\n",
        "df.iloc[11837,2] = 2009 # Slot Machine\n",
        "df.iloc[12089,2] = 2002 # NBA Live 2003\n",
        "df.iloc[12111,2] = 2010 # Ferrari: The Race Experience\n",
        "df.iloc[12307,2] = 2012 # Port Royale 3\n",
        "df.iloc[12324,2] = 2007 # Star Trek: Conquest\n",
        "df.iloc[12355,2] = 2010 # Fullmetal Alchemist: Brotherhood\n",
        "df.iloc[12391,2] = 2004 # WarioWare: Twisted!\n",
        "df.iloc[12417,2] = 2008 # Silent Hill: Homecoming\n",
        "df.iloc[12536,2] = 2004 # The Chronicles of Riddick: Escape from Butcher Bay\n",
        "df.iloc[12616,2] = 1978 # Flag Capture\n",
        "df.iloc[12703,2] = 2008 # Robert Ludlum's The Bourne Conspiracy\n",
        "df.iloc[12710,2] = 2011 # Happy Feet Two\n",
        "df.iloc[12787,2] = 2002 # NASCAR: Dirt to Daytona\n",
        "df.iloc[12799,2] = 2003 # GiFTPiA\n",
        "df.iloc[12817,2] = 2003 # NBA Street Vol. 2\n",
        "df.iloc[12858,2] = 2007 # Rock Band\n",
        "df.iloc[12986,2] = 2010 # Call of Duty: Black Ops\n",
        "df.iloc[13162,2] = 2011 # Otomedius Excellent\n",
        "df.iloc[13187,2] = 2010 # The Daring Game for Girls\n",
        "df.iloc[13190,2] = 2011 # Valkyria Chronicles III: Unrecorded Chronicles\n",
        "df.iloc[13256,2] = 2011 # Test Drive Unlimited 2\n",
        "df.iloc[13327,2] = 2001 # Frogger's Adventures: Temple of the Frog\n",
        "df.iloc[13357,2] = 2011 # Test Drive Unlimited 2\n",
        "df.iloc[13406,2] = 2010 # Trauma Team\n",
        "df.iloc[13450,2] = 2007 # Bikkuriman Daijiten\n",
        "df.iloc[13488,2] = 2008 # GRID\n",
        "df.iloc[13583,2] = 2005 # The Chronicles of Narnia: The Lion, The Witch and The Wardrobe\n",
        "df.iloc[13589,2] = 2008 # Zero: Tsukihami no Kamen\n",
        "df.iloc[13628,2] = 2004 # McFarlane's Evil Prophecy\n",
        "df.iloc[13656,2] = 2010 # NHL Slapshot\n",
        "df.iloc[13678,2] = 2004 # Custom Robo\n",
        "df.iloc[13734,2] = 2010 # Singularity\n",
        "df.iloc[13752,2] = 2002 # NASCAR Thunder 2003\n",
        "df.iloc[13766,2] = 2007 # Housekeeping\n",
        "df.iloc[13844,2] = 2007 # Luxor: Pharaoh's Challenge\n",
        "df.iloc[13889,2] = 2003 # Super Duper Sumos\n",
        "df.iloc[13902,2] = 1977 # Indy 500\n",
        "df.iloc[13923,2] = 2008 # Prinny: Can I Really Be The Hero? (US sales)\n",
        "df.iloc[13954,2] = 2011 # Clockwork Empires\n",
        "df.iloc[14003,2] = 1999 # RollerCoaster Tycoon\n",
        "df.iloc[14012,2] = 2004 # The King of Fighters: Maximum Impact - Maniax\n",
        "df.iloc[14049,2] = 2006 # Monster Hunter 2\n",
        "df.iloc[14050,2] = 1978 # Breakaway IV\n",
        "df.iloc[14119,2] = 2004 # All-Star Baseball 2005\n",
        "df.iloc[14292,2] = 2006 # Tom Clancy's Rainbow Six: Critical Hour\n",
        "df.iloc[14303,2] = 2011 # Captain America: Super Soldier\n",
        "df.iloc[14436,2] = 2008 # PDC World Championship Darts 2008\n",
        "df.iloc[14580,2] = 2008 # Rhythm Heaven\n",
        "df.iloc[14585,2] = 2002 # Suikoden III\n",
        "df.iloc[14622,2] = 2008 # Robert Ludlum's The Bourne Conspiracy\n",
        "df.iloc[14765,2] = 1977 # Combat\n",
        "df.iloc[14912,2] = 2008 # Tornado\n",
        "df.iloc[14941,2] = 2010 # The Daring Game for Girls\n",
        "df.iloc[14968,2] = 2008 # PES 2009: Pro Evolution Soccer\n",
        "df.iloc[15001,2] = 2005 # Teen Titans\n",
        "df.iloc[15013,2] = 2008 # Silent Hill: Homecoming\n",
        "df.iloc[15051,2] = 2008 # Steal Princess\n",
        "df.iloc[15063,2] = 2018 # Drake of the 99 Dragons\n",
        "df.iloc[15093,2] = 2003 # Tube Slider\n",
        "df.iloc[15147,2] = 2006 # Nicktoons: Battle for Volcano Island\n",
        "df.iloc[15217,2] = 2002 # Haven: Call of the King\n",
        "df.iloc[15317,2] = 2011 # LEGO Harry Potter: Years 5-7\n",
        "df.iloc[15332,2] = 2011 # Happy Feet Two\n",
        "df.iloc[15402,2] = 2002 # James Cameron's Dark Angel\n",
        "df.iloc[15406,2] = 2002 # NBA Starting Five\n",
        "df.iloc[15411,2] = 2011 # Tour de France 2011\n",
        "df.iloc[15499,2] = 2000 # Smashing Drive\n",
        "df.iloc[15655,2] = 2009 # Runaway: A Twist of Fate\n",
        "df.iloc[15669,2] = 2004 # Yu Yu Hakusho: Dark Tournament\n",
        "df.iloc[15776,2] = 2005 # Without Warning\n",
        "df.iloc[15805,2] = 2009 # Dream Dancer\n",
        "df.iloc[15897,2] = 2004 # Virtua Quest\n",
        "df.iloc[16053,2] = 1982 # Karate\n",
        "df.iloc[16130,2] = 2012 # Super Robot Wars OG Saga: Masou Kishin II - Revelation of Evil God\n",
        "df.iloc[16195,2] = 2010 # Singularity\n",
        "df.iloc[16240,2] = 2003 # Freaky Flyers\n",
        "df.iloc[16275,2] = 1978 # Space Invaders\n",
        "df.iloc[16278,2] = 2010 # Madden NFL 11\n",
        "df.iloc[16425,2] = 2011 # Yoostar on MTV\n",
        "df.iloc[16432,2] = 2010 # Bejeweled 3\n",
        "df.iloc[2407,2] = 2007 # Writing and Speaking Beautiful Japanese DS\n",
        "df.iloc[357,2] = 2009 # Majesty 2: The Fantasy Kingdom Sim\n",
        "df.iloc[14910,2] = 2008 # Tornado\n",
        "df.iloc[547,2] = 2001 # Transworld Surf\n",
        "df.iloc[15215,2] = 2002 # Haven: Call of the King\n",
        "df.iloc[12389,2] = 2004 # WarioWare: Twisted!\n",
        "df.iloc[3831,2] = 1982 # Pac-Man Fever\n",
        "df.iloc[12087,2] = 2002 # NBA Live 2003\n",
        "df.iloc[12815,2] = 2003 # NBA Street Vol. 2\n",
        "\n",
        "df"
      ],
      "execution_count": null,
      "outputs": []
    },
    {
      "cell_type": "code",
      "metadata": {
        "id": "sGTV1IZq7g6w"
      },
      "source": [
        "# 데이터 분석에 대한 검토 내용\n",
        "# 1) 지역에 따라서 선호하는 게임 장르가 다를까 라는 질문에 대답을 하셔야합니다.\n",
        "# 2) 연도별 게임의 트렌드가 있을까 라는 질문에 대답을 하셔야합니다.\n",
        "# 3) 출고량이 높은 게임에 대한 분석 및 시각화 프로세스가 포함되어야 합니다.\n",
        "# 4) 플랫폼과 판매량과의 관계 분석하여 플랫폼 개발을 어떤 방향으로 하나 살펴보자\n",
        "# +++ 일본어 버젼 개발이 필요한가???"
      ],
      "execution_count": null,
      "outputs": []
    },
    {
      "cell_type": "code",
      "metadata": {
        "id": "kYHNS_i6dzSW"
      },
      "source": [
        "# 1)번 검토 사항 : 지역에 따라서 선호하는 게임 장르가 다를까 라는 질문에 대답을 하셔야합니다.\n",
        "# 지역에 따른 장르별 출하량 테이블 (가설 검정을 위한)\n",
        "\n",
        "df_g = df.groupby(['Genre']).sum().drop(columns='Year')\n",
        "df_g"
      ],
      "execution_count": null,
      "outputs": []
    },
    {
      "cell_type": "code",
      "metadata": {
        "id": "H0t-gq35ecMz"
      },
      "source": [
        "# 지역별 - 게임 장르 (카이스퀘어 pvalue 가설 검정)\n",
        "\n",
        "from scipy.stats import chi2_contingency\n",
        "chi2 = chi2_contingency(df_g) # two-sample chi-square test\n",
        "chi2 # chisquare, pvalue, dof\n",
        "\n",
        "# p-value : 2.55243399411134e-123\n",
        "# 지역 출고량(지역별)과 장르는 연관이 '있다'"
      ],
      "execution_count": null,
      "outputs": []
    },
    {
      "cell_type": "code",
      "metadata": {
        "id": "RsXFgxRW0vv0"
      },
      "source": [
        "# 연관이 있다라면... 어떤 지역에서 어떤 장르가 먹힐까\n",
        "\n",
        "import seaborn as sns\n",
        "import matplotlib.pyplot as plt\n",
        "\n",
        "df1 = df.groupby(['Genre']).sum().drop(columns='Year')\n",
        "df1.transpose().plot(kind='bar', figsize=[20,10], cmap='Paired')\n",
        "plt.title(\"Sales - Genre Plot bar\")\n",
        "plt.xlabel(\"Sales Area\")\n",
        "plt.ylabel(\"Sales Volumes\")\n",
        "\n",
        "# 검토 1)번 결론 : 액션 - 북미/유럽/기타지역, 롤플레잉 - 일본에서 인기있다."
      ],
      "execution_count": null,
      "outputs": []
    },
    {
      "cell_type": "code",
      "metadata": {
        "id": "QQ5OCI2zhIQ1"
      },
      "source": [
        "# 2)번 검토 사항 : 연도별 게임의 트렌드가 있을까 라는 질문에 대답을 하셔야합니다.\n",
        "# 그렇다면... 두가지로 나눠 관계를 봐보자\n",
        "    # [1] 연도별 게임 발매 장르로 비교 (그 시기에 어떤 게임이 많이 나왔냐..)\n",
        "    # [2] 연도별 게임 판매 장르로 비교 (그 시기에 어떤 게임이 많이 팔렸냐..)\n",
        "\n",
        "# [1] 연도별 게임 발매 장르 테이블 (가설 검정을 위한)\n",
        "df_k = pd.crosstab(index=df['Year'], columns=df['Genre'])\n",
        "df_k"
      ],
      "execution_count": null,
      "outputs": []
    },
    {
      "cell_type": "code",
      "metadata": {
        "id": "3OOo3o5YjMpn"
      },
      "source": [
        "# [1] 연도별 게임 발매 장르 비교 (카이스퀘어 pvalue 검정)\n",
        "\n",
        "chi3 = chi2_contingency(df_k) # two-sample chi-square test\n",
        "chi3 # chisquare, pvalue, dof\n",
        "\n",
        "# p-value : 0.0\n",
        "# 연도별 게임 장르는 연관이 '있다'"
      ],
      "execution_count": null,
      "outputs": []
    },
    {
      "cell_type": "code",
      "metadata": {
        "id": "WTo1NoY4WKHj"
      },
      "source": [
        "# [2] 연도별 게임 판매 장르 비교\n",
        "\n",
        "df2 = df.loc[:, ['NA_Sales','EU_Sales','JP_Sales','Other_Sales']]\n",
        "df2['Sales_SUM'] = df2.sum(axis=1)\n",
        "\n",
        "df3 = df.loc[:,['Year','Genre']]\n",
        "df4 = df3.join(df2['Sales_SUM'])\n",
        "\n",
        "# df4.groupby(['Year','Genre']).sum()\n",
        "# 연도별 - 게임 장르 출하량 테이블 (가설검정을 위한)\n",
        "\n",
        "df_o = pd.crosstab(index=df['Year'], columns=df['Genre'], values=df2['Sales_SUM'], aggfunc=\"sum\").fillna(0)\n",
        "df_o"
      ],
      "execution_count": null,
      "outputs": []
    },
    {
      "cell_type": "code",
      "metadata": {
        "id": "qIP02LaHmo_Z"
      },
      "source": [
        "# [2] 연도별 게임 판매 장르 비교 (카이스퀘어 pvalue 검정)\n",
        "\n",
        "chi4 = chi2_contingency(df_o) # two-sample chi-square test\n",
        "chi4 # chisquare, pvalue, dof\n",
        "\n",
        "# p-value : 0.0\n",
        "# 연도별 게임 장르는 연관이 '있다'"
      ],
      "execution_count": null,
      "outputs": []
    },
    {
      "cell_type": "code",
      "metadata": {
        "id": "jjYq-RNP2trw"
      },
      "source": [
        "# 연도별 게임의 트렌드가 있을까 라는 질문에 대답을 하셔야합니다.\n",
        "# [1] 연도별 게임 발매 장르 비교 : pvalue 0 / 연관 있다.\n",
        "# [2] 연도별 게임 판매 장르 비교 : pvalue 0 / 연관 있다.\n",
        "# 상기 두가지 선택지 중.. 판매량이 높은 비교로 선택...\n",
        "\n",
        "df4.groupby(['Year','Genre']).sum().unstack().plot(kind='bar',y='Sales_SUM', stacked=True, figsize=[20,10], cmap='Paired')\n",
        "plt.title(\"Sales - Genre Plot bar\")\n",
        "plt.xlabel(\"Year\")\n",
        "plt.ylabel(\"Sales Volumes\")\n",
        "\n",
        "# 검토 2)번 결론 : 연도와 상관없이 꾸준히 액션/스포츠/슈팅 게임은 사랑 받고 있다..."
      ],
      "execution_count": null,
      "outputs": []
    },
    {
      "cell_type": "code",
      "metadata": {
        "id": "9F44DgPQNxz7"
      },
      "source": [
        "# 3)번 검토 사항 : 출고량이 높은 게임에 대한 분석 및 시각화 프로세스가 포함되어야 합니다.\n",
        "\n",
        "# 모든 지역 총 출하량 테이블 추가\n",
        "df5 = df.join(df2['Sales_SUM'])\n",
        "df5"
      ],
      "execution_count": null,
      "outputs": []
    },
    {
      "cell_type": "code",
      "metadata": {
        "id": "0GxO0y47GWCZ"
      },
      "source": [
        "df6 = df5.sort_values(by=['Sales_SUM'], ascending=False)"
      ],
      "execution_count": null,
      "outputs": []
    },
    {
      "cell_type": "code",
      "metadata": {
        "id": "IAFN0pSPG1iU"
      },
      "source": [
        "# 2001년 후로 100만장 판매 이상에서 특이점 도출 예정\n",
        "# 최신 게임 트렌드 및 밀리언셀러 위주로 향후 개발 방향 설정 위해\n",
        "\n",
        "df7 = df6[df6[\"Year\"] >= 2001]\n",
        "df8 = df7[df7[\"Sales_SUM\"] >= 1]\n",
        "df8"
      ],
      "execution_count": null,
      "outputs": []
    },
    {
      "cell_type": "code",
      "metadata": {
        "id": "w2gMpAmXL0Ag"
      },
      "source": [
        "# 판매량과 장르간의 관계 분석\n",
        "\n",
        "df9 = df8.drop(columns=['Year','Platform'])\n",
        "df9 = df9.groupby(['Genre']).sum()\n",
        "df9"
      ],
      "execution_count": null,
      "outputs": []
    },
    {
      "cell_type": "code",
      "metadata": {
        "id": "MftTItP36OON"
      },
      "source": [
        "df9.transpose().plot(kind='bar', figsize=[20,10], cmap='Paired')\n",
        "plt.title(\"Sales - Genre Plot bar for 1million Sales\")\n",
        "plt.xlabel(\"Sales Area\")\n",
        "plt.ylabel(\"Sales Volumes\")\n",
        "\n",
        "# 검토 3)번 결론 : 최신 트렌드 및 출하량 높은 게임의 장르 분석 결과 액션 / 슈팅 / 스포츠 순으로 인기가 있다"
      ],
      "execution_count": null,
      "outputs": []
    },
    {
      "cell_type": "code",
      "metadata": {
        "id": "_vSuusIhOcwg"
      },
      "source": [
        "# 4)번 검토 사항 : 플랫폼과 판매량과의 관계 분석\n",
        "\n",
        "df10 = df8.drop(columns=['Year'])\n",
        "df10 = df10.groupby(['Platform']).sum()\n",
        "df10"
      ],
      "execution_count": null,
      "outputs": []
    },
    {
      "cell_type": "code",
      "metadata": {
        "id": "EkMROzuf50vW"
      },
      "source": [
        "df10.transpose().plot(kind='bar', figsize=[20,10], cmap='Paired')\n",
        "plt.title(\"Sales - Genre Plot bar for 1million Sales\")\n",
        "plt.xlabel(\"Sales Area\")\n",
        "plt.ylabel(\"Sales Volumes\")\n",
        "\n",
        "# 검토 4)번 결론 : PS/DS/Xbox 등 콘솔류의 플랫폼이 인기\n",
        "########## 최종 결론 : 콘솔류 기반 액션 장르 개발을 하자! ##########"
      ],
      "execution_count": null,
      "outputs": []
    },
    {
      "cell_type": "code",
      "metadata": {
        "id": "f9-hoGTlTjQN"
      },
      "source": [
        "# 기타)))) + 일본어 버젼을 발매할 필요가 있을까?\n",
        "\n",
        "df11 = df.loc[:,['Year','NA_Sales','EU_Sales','JP_Sales','Other_Sales']]\n",
        "df11 = df11.groupby(['Year']).sum()\n",
        "df11.plot(figsize=[20,10], cmap='Paired')\n",
        "\n",
        "# 최근 인기 장르인 액션/스포츠/슈팅게임 장르는 북미/유럽에 비해 출하량 저조하므로 개발 검토 X\n",
        "# 롤플레잉 개발 시 일본어 버젼 개발 검토 필요"
      ],
      "execution_count": null,
      "outputs": []
    }
  ]
}